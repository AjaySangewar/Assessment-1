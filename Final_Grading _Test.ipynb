{
 "cells": [
  {
   "cell_type": "code",
   "execution_count": null,
   "id": "721160d0",
   "metadata": {},
   "outputs": [],
   "source": [
    "#!pip install xgboost"
   ]
  },
  {
   "cell_type": "code",
   "execution_count": 7,
   "id": "060c24c8",
   "metadata": {},
   "outputs": [],
   "source": [
    "import pandas as pd\n",
    "import numpy as np\n",
    "from sklearn.model_selection import train_test_split\n",
    "from sklearn.model_selection import KFold, cross_val_score\n",
    "#from xgboost import XGBClassifier\n",
    "from sklearn.ensemble import RandomForestClassifier"
   ]
  },
  {
   "cell_type": "code",
   "execution_count": 8,
   "id": "58baa8a3",
   "metadata": {},
   "outputs": [],
   "source": [
    "data = pd.read_csv(\"Wholesale customers data.csv\")"
   ]
  },
  {
   "cell_type": "code",
   "execution_count": 9,
   "id": "df01afec",
   "metadata": {},
   "outputs": [],
   "source": [
    "X = data.drop(columns=['Channel'],axis=1)\n",
    "y = data['Channel']"
   ]
  },
  {
   "cell_type": "code",
   "execution_count": 10,
   "id": "6aad64b3",
   "metadata": {},
   "outputs": [],
   "source": [
    "kfold = KFold(n_splits=5, shuffle=True, random_state=42)\n",
    "rf = RandomForestClassifier(n_estimators=100,max_depth=5)"
   ]
  },
  {
   "cell_type": "code",
   "execution_count": 11,
   "id": "f6155a55",
   "metadata": {},
   "outputs": [],
   "source": [
    "results = cross_val_score(rf, X, y, cv=kfold, scoring='accuracy')"
   ]
  },
  {
   "cell_type": "code",
   "execution_count": 12,
   "id": "a5c59140",
   "metadata": {},
   "outputs": [
    {
     "data": {
      "text/plain": [
       "0.9113636363636364"
      ]
     },
     "execution_count": 12,
     "metadata": {},
     "output_type": "execute_result"
    }
   ],
   "source": [
    "np.mean(results)"
   ]
  },
  {
   "cell_type": "code",
   "execution_count": null,
   "id": "bdab19ce",
   "metadata": {},
   "outputs": [],
   "source": []
  }
 ],
 "metadata": {
  "kernelspec": {
   "display_name": "Python 3 (ipykernel)",
   "language": "python",
   "name": "python3"
  },
  "language_info": {
   "codemirror_mode": {
    "name": "ipython",
    "version": 3
   },
   "file_extension": ".py",
   "mimetype": "text/x-python",
   "name": "python",
   "nbconvert_exporter": "python",
   "pygments_lexer": "ipython3",
   "version": "3.9.13"
  }
 },
 "nbformat": 4,
 "nbformat_minor": 5
}
